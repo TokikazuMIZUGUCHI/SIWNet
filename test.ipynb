{
 "cells": [
  {
   "cell_type": "code",
   "execution_count": 12,
   "metadata": {},
   "outputs": [],
   "source": [
    "from PIL import Image\n",
    "import numpy as np\n",
    "\n",
    "# 12-bit画像の読み込み\n",
    "img = Image.open(r'G:\\SeeingThroughFog\\dataset\\SeeingThroughFogCompressed\\cam_stereo_left\\cam_stereo_left\\2018-02-04_10-37-57_00000.tiff')\n",
    "# 画像をNumPy配列に変換\n",
    "img_array = np.array(img)\n",
    "\n",
    "# 12ビットから8ビットへの変換 (0〜4095を0〜255にスケーリング)\n",
    "img_8bit = (img_array / 16).astype(np.uint8)\n",
    "\n",
    "# 8ビット画像として保存\n",
    "img_8bit_pil = Image.fromarray(img_8bit)\n",
    "img_8bit_pil.save('converted_image.png')\n",
    "\n",
    "# 8ビット画像を表示\n",
    "img_8bit_pil.show()\n"
   ]
  },
  {
   "cell_type": "code",
   "execution_count": null,
   "metadata": {},
   "outputs": [],
   "source": []
  }
 ],
 "metadata": {
  "kernelspec": {
   "display_name": "base",
   "language": "python",
   "name": "python3"
  },
  "language_info": {
   "codemirror_mode": {
    "name": "ipython",
    "version": 3
   },
   "file_extension": ".py",
   "mimetype": "text/x-python",
   "name": "python",
   "nbconvert_exporter": "python",
   "pygments_lexer": "ipython3",
   "version": "3.12.3"
  }
 },
 "nbformat": 4,
 "nbformat_minor": 2
}
